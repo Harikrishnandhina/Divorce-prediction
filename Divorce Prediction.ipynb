{
 "cells": [
  {
   "cell_type": "markdown",
   "id": "b7f2aa50",
   "metadata": {},
   "source": [
    "#  Importing Libraries"
   ]
  },
  {
   "cell_type": "code",
   "execution_count": 1,
   "id": "d3552483",
   "metadata": {},
   "outputs": [],
   "source": [
    "import pandas as pd\n",
    "import seaborn as sns\n",
    "import matplotlib.pyplot as plt\n",
    "%matplotlib inline\n",
    "import numpy as np\n",
    "import math\n",
    "\n",
    "from sklearn.model_selection import train_test_split\n",
    "from sklearn.naive_bayes import GaussianNB\n",
    "from sklearn.naive_bayes import MultinomialNB\n",
    "from sklearn.linear_model import LogisticRegression\n",
    "from sklearn.neighbors import KNeighborsClassifier\n",
    "from sklearn.svm import LinearSVC\n",
    "from sklearn.tree import DecisionTreeClassifier\n",
    "from sklearn.ensemble import BaggingClassifier\n",
    "from sklearn.ensemble import RandomForestClassifier\n",
    "from sklearn.metrics import confusion_matrix\n",
    "from sklearn.feature_selection import SelectFromModel\n",
    "from sklearn.metrics import plot_confusion_matrix\n",
    "\n",
    "import joblib\n",
    "\n",
    "from sklearn.feature_selection import SelectKBest\n",
    "from sklearn.feature_selection import chi2\n",
    "\n",
    "from sklearn.model_selection import cross_val_score"
   ]
  },
  {
   "cell_type": "markdown",
   "id": "d2169975",
   "metadata": {},
   "source": [
    "# Reading Data\n"
   ]
  },
  {
   "cell_type": "code",
   "execution_count": 2,
   "id": "190384d2",
   "metadata": {},
   "outputs": [],
   "source": [
    "pd.set_option('display.max_columns',None, 'display.max_colwidth', None)"
   ]
  },
  {
   "cell_type": "code",
   "execution_count": 3,
   "id": "56e11afa",
   "metadata": {},
   "outputs": [],
   "source": [
    "df = pd.read_excel(\"divorce.xlsx\")\n",
    "ques = pd.read_excel(\"Divorce Questions.xlsx\", header = None)"
   ]
  },
  {
   "cell_type": "code",
   "execution_count": 4,
   "id": "e67eea23",
   "metadata": {},
   "outputs": [
    {
     "data": {
      "text/html": [
       "<div>\n",
       "<style scoped>\n",
       "    .dataframe tbody tr th:only-of-type {\n",
       "        vertical-align: middle;\n",
       "    }\n",
       "\n",
       "    .dataframe tbody tr th {\n",
       "        vertical-align: top;\n",
       "    }\n",
       "\n",
       "    .dataframe thead th {\n",
       "        text-align: right;\n",
       "    }\n",
       "</style>\n",
       "<table border=\"1\" class=\"dataframe\">\n",
       "  <thead>\n",
       "    <tr style=\"text-align: right;\">\n",
       "      <th></th>\n",
       "      <th>Atr1</th>\n",
       "      <th>Atr2</th>\n",
       "      <th>Atr3</th>\n",
       "      <th>Atr4</th>\n",
       "      <th>Atr5</th>\n",
       "      <th>Atr6</th>\n",
       "      <th>Atr7</th>\n",
       "      <th>Atr8</th>\n",
       "      <th>Atr9</th>\n",
       "      <th>Atr10</th>\n",
       "      <th>Atr11</th>\n",
       "      <th>Atr12</th>\n",
       "      <th>Atr13</th>\n",
       "      <th>Atr14</th>\n",
       "      <th>Atr15</th>\n",
       "      <th>Atr16</th>\n",
       "      <th>Atr17</th>\n",
       "      <th>Atr18</th>\n",
       "      <th>Atr19</th>\n",
       "      <th>Atr20</th>\n",
       "      <th>Atr21</th>\n",
       "      <th>Atr22</th>\n",
       "      <th>Atr23</th>\n",
       "      <th>Atr24</th>\n",
       "      <th>Atr25</th>\n",
       "      <th>Atr26</th>\n",
       "      <th>Atr27</th>\n",
       "      <th>Atr28</th>\n",
       "      <th>Atr29</th>\n",
       "      <th>Atr30</th>\n",
       "      <th>Atr31</th>\n",
       "      <th>Atr32</th>\n",
       "      <th>Atr33</th>\n",
       "      <th>Atr34</th>\n",
       "      <th>Atr35</th>\n",
       "      <th>Atr36</th>\n",
       "      <th>Atr37</th>\n",
       "      <th>Atr38</th>\n",
       "      <th>Atr39</th>\n",
       "      <th>Atr40</th>\n",
       "      <th>Atr41</th>\n",
       "      <th>Atr42</th>\n",
       "      <th>Atr43</th>\n",
       "      <th>Atr44</th>\n",
       "      <th>Atr45</th>\n",
       "      <th>Atr46</th>\n",
       "      <th>Atr47</th>\n",
       "      <th>Atr48</th>\n",
       "      <th>Atr49</th>\n",
       "      <th>Atr50</th>\n",
       "      <th>Atr51</th>\n",
       "      <th>Atr52</th>\n",
       "      <th>Atr53</th>\n",
       "      <th>Atr54</th>\n",
       "      <th>Class</th>\n",
       "    </tr>\n",
       "  </thead>\n",
       "  <tbody>\n",
       "    <tr>\n",
       "      <th>0</th>\n",
       "      <td>2</td>\n",
       "      <td>2</td>\n",
       "      <td>4</td>\n",
       "      <td>1</td>\n",
       "      <td>0</td>\n",
       "      <td>0</td>\n",
       "      <td>0</td>\n",
       "      <td>0</td>\n",
       "      <td>0</td>\n",
       "      <td>0</td>\n",
       "      <td>1</td>\n",
       "      <td>0</td>\n",
       "      <td>1</td>\n",
       "      <td>1</td>\n",
       "      <td>0</td>\n",
       "      <td>1</td>\n",
       "      <td>0</td>\n",
       "      <td>0</td>\n",
       "      <td>0</td>\n",
       "      <td>1</td>\n",
       "      <td>0</td>\n",
       "      <td>0</td>\n",
       "      <td>0</td>\n",
       "      <td>0</td>\n",
       "      <td>0</td>\n",
       "      <td>0</td>\n",
       "      <td>0</td>\n",
       "      <td>0</td>\n",
       "      <td>0</td>\n",
       "      <td>1</td>\n",
       "      <td>1</td>\n",
       "      <td>2</td>\n",
       "      <td>1</td>\n",
       "      <td>2</td>\n",
       "      <td>0</td>\n",
       "      <td>1</td>\n",
       "      <td>2</td>\n",
       "      <td>1</td>\n",
       "      <td>3</td>\n",
       "      <td>3</td>\n",
       "      <td>2</td>\n",
       "      <td>1</td>\n",
       "      <td>1</td>\n",
       "      <td>2</td>\n",
       "      <td>3</td>\n",
       "      <td>2</td>\n",
       "      <td>1</td>\n",
       "      <td>3</td>\n",
       "      <td>3</td>\n",
       "      <td>3</td>\n",
       "      <td>2</td>\n",
       "      <td>3</td>\n",
       "      <td>2</td>\n",
       "      <td>1</td>\n",
       "      <td>1</td>\n",
       "    </tr>\n",
       "    <tr>\n",
       "      <th>1</th>\n",
       "      <td>4</td>\n",
       "      <td>4</td>\n",
       "      <td>4</td>\n",
       "      <td>4</td>\n",
       "      <td>4</td>\n",
       "      <td>0</td>\n",
       "      <td>0</td>\n",
       "      <td>4</td>\n",
       "      <td>4</td>\n",
       "      <td>4</td>\n",
       "      <td>4</td>\n",
       "      <td>3</td>\n",
       "      <td>4</td>\n",
       "      <td>0</td>\n",
       "      <td>4</td>\n",
       "      <td>4</td>\n",
       "      <td>4</td>\n",
       "      <td>4</td>\n",
       "      <td>3</td>\n",
       "      <td>2</td>\n",
       "      <td>1</td>\n",
       "      <td>1</td>\n",
       "      <td>0</td>\n",
       "      <td>2</td>\n",
       "      <td>2</td>\n",
       "      <td>1</td>\n",
       "      <td>2</td>\n",
       "      <td>0</td>\n",
       "      <td>1</td>\n",
       "      <td>1</td>\n",
       "      <td>0</td>\n",
       "      <td>4</td>\n",
       "      <td>2</td>\n",
       "      <td>3</td>\n",
       "      <td>0</td>\n",
       "      <td>2</td>\n",
       "      <td>3</td>\n",
       "      <td>4</td>\n",
       "      <td>2</td>\n",
       "      <td>4</td>\n",
       "      <td>2</td>\n",
       "      <td>2</td>\n",
       "      <td>3</td>\n",
       "      <td>4</td>\n",
       "      <td>2</td>\n",
       "      <td>2</td>\n",
       "      <td>2</td>\n",
       "      <td>3</td>\n",
       "      <td>4</td>\n",
       "      <td>4</td>\n",
       "      <td>4</td>\n",
       "      <td>4</td>\n",
       "      <td>2</td>\n",
       "      <td>2</td>\n",
       "      <td>1</td>\n",
       "    </tr>\n",
       "    <tr>\n",
       "      <th>2</th>\n",
       "      <td>2</td>\n",
       "      <td>2</td>\n",
       "      <td>2</td>\n",
       "      <td>2</td>\n",
       "      <td>1</td>\n",
       "      <td>3</td>\n",
       "      <td>2</td>\n",
       "      <td>1</td>\n",
       "      <td>1</td>\n",
       "      <td>2</td>\n",
       "      <td>3</td>\n",
       "      <td>4</td>\n",
       "      <td>2</td>\n",
       "      <td>3</td>\n",
       "      <td>3</td>\n",
       "      <td>3</td>\n",
       "      <td>3</td>\n",
       "      <td>3</td>\n",
       "      <td>3</td>\n",
       "      <td>2</td>\n",
       "      <td>1</td>\n",
       "      <td>0</td>\n",
       "      <td>1</td>\n",
       "      <td>2</td>\n",
       "      <td>2</td>\n",
       "      <td>2</td>\n",
       "      <td>2</td>\n",
       "      <td>2</td>\n",
       "      <td>3</td>\n",
       "      <td>2</td>\n",
       "      <td>3</td>\n",
       "      <td>3</td>\n",
       "      <td>1</td>\n",
       "      <td>1</td>\n",
       "      <td>1</td>\n",
       "      <td>1</td>\n",
       "      <td>2</td>\n",
       "      <td>1</td>\n",
       "      <td>3</td>\n",
       "      <td>3</td>\n",
       "      <td>3</td>\n",
       "      <td>3</td>\n",
       "      <td>2</td>\n",
       "      <td>3</td>\n",
       "      <td>2</td>\n",
       "      <td>3</td>\n",
       "      <td>2</td>\n",
       "      <td>3</td>\n",
       "      <td>1</td>\n",
       "      <td>1</td>\n",
       "      <td>1</td>\n",
       "      <td>2</td>\n",
       "      <td>2</td>\n",
       "      <td>2</td>\n",
       "      <td>1</td>\n",
       "    </tr>\n",
       "    <tr>\n",
       "      <th>3</th>\n",
       "      <td>3</td>\n",
       "      <td>2</td>\n",
       "      <td>3</td>\n",
       "      <td>2</td>\n",
       "      <td>3</td>\n",
       "      <td>3</td>\n",
       "      <td>3</td>\n",
       "      <td>3</td>\n",
       "      <td>3</td>\n",
       "      <td>3</td>\n",
       "      <td>4</td>\n",
       "      <td>3</td>\n",
       "      <td>3</td>\n",
       "      <td>4</td>\n",
       "      <td>3</td>\n",
       "      <td>3</td>\n",
       "      <td>3</td>\n",
       "      <td>3</td>\n",
       "      <td>3</td>\n",
       "      <td>4</td>\n",
       "      <td>1</td>\n",
       "      <td>1</td>\n",
       "      <td>1</td>\n",
       "      <td>1</td>\n",
       "      <td>2</td>\n",
       "      <td>1</td>\n",
       "      <td>1</td>\n",
       "      <td>1</td>\n",
       "      <td>1</td>\n",
       "      <td>3</td>\n",
       "      <td>2</td>\n",
       "      <td>3</td>\n",
       "      <td>2</td>\n",
       "      <td>2</td>\n",
       "      <td>1</td>\n",
       "      <td>1</td>\n",
       "      <td>3</td>\n",
       "      <td>3</td>\n",
       "      <td>4</td>\n",
       "      <td>4</td>\n",
       "      <td>2</td>\n",
       "      <td>2</td>\n",
       "      <td>3</td>\n",
       "      <td>2</td>\n",
       "      <td>3</td>\n",
       "      <td>2</td>\n",
       "      <td>2</td>\n",
       "      <td>3</td>\n",
       "      <td>3</td>\n",
       "      <td>3</td>\n",
       "      <td>3</td>\n",
       "      <td>2</td>\n",
       "      <td>2</td>\n",
       "      <td>2</td>\n",
       "      <td>1</td>\n",
       "    </tr>\n",
       "    <tr>\n",
       "      <th>4</th>\n",
       "      <td>2</td>\n",
       "      <td>2</td>\n",
       "      <td>1</td>\n",
       "      <td>1</td>\n",
       "      <td>1</td>\n",
       "      <td>1</td>\n",
       "      <td>0</td>\n",
       "      <td>0</td>\n",
       "      <td>0</td>\n",
       "      <td>0</td>\n",
       "      <td>0</td>\n",
       "      <td>1</td>\n",
       "      <td>0</td>\n",
       "      <td>1</td>\n",
       "      <td>1</td>\n",
       "      <td>1</td>\n",
       "      <td>1</td>\n",
       "      <td>1</td>\n",
       "      <td>2</td>\n",
       "      <td>1</td>\n",
       "      <td>1</td>\n",
       "      <td>0</td>\n",
       "      <td>0</td>\n",
       "      <td>0</td>\n",
       "      <td>0</td>\n",
       "      <td>2</td>\n",
       "      <td>1</td>\n",
       "      <td>2</td>\n",
       "      <td>1</td>\n",
       "      <td>1</td>\n",
       "      <td>1</td>\n",
       "      <td>1</td>\n",
       "      <td>1</td>\n",
       "      <td>1</td>\n",
       "      <td>0</td>\n",
       "      <td>0</td>\n",
       "      <td>0</td>\n",
       "      <td>0</td>\n",
       "      <td>2</td>\n",
       "      <td>1</td>\n",
       "      <td>0</td>\n",
       "      <td>2</td>\n",
       "      <td>3</td>\n",
       "      <td>0</td>\n",
       "      <td>2</td>\n",
       "      <td>2</td>\n",
       "      <td>1</td>\n",
       "      <td>2</td>\n",
       "      <td>3</td>\n",
       "      <td>2</td>\n",
       "      <td>2</td>\n",
       "      <td>2</td>\n",
       "      <td>1</td>\n",
       "      <td>0</td>\n",
       "      <td>1</td>\n",
       "    </tr>\n",
       "  </tbody>\n",
       "</table>\n",
       "</div>"
      ],
      "text/plain": [
       "   Atr1  Atr2  Atr3  Atr4  Atr5  Atr6  Atr7  Atr8  Atr9  Atr10  Atr11  Atr12  \\\n",
       "0     2     2     4     1     0     0     0     0     0      0      1      0   \n",
       "1     4     4     4     4     4     0     0     4     4      4      4      3   \n",
       "2     2     2     2     2     1     3     2     1     1      2      3      4   \n",
       "3     3     2     3     2     3     3     3     3     3      3      4      3   \n",
       "4     2     2     1     1     1     1     0     0     0      0      0      1   \n",
       "\n",
       "   Atr13  Atr14  Atr15  Atr16  Atr17  Atr18  Atr19  Atr20  Atr21  Atr22  \\\n",
       "0      1      1      0      1      0      0      0      1      0      0   \n",
       "1      4      0      4      4      4      4      3      2      1      1   \n",
       "2      2      3      3      3      3      3      3      2      1      0   \n",
       "3      3      4      3      3      3      3      3      4      1      1   \n",
       "4      0      1      1      1      1      1      2      1      1      0   \n",
       "\n",
       "   Atr23  Atr24  Atr25  Atr26  Atr27  Atr28  Atr29  Atr30  Atr31  Atr32  \\\n",
       "0      0      0      0      0      0      0      0      1      1      2   \n",
       "1      0      2      2      1      2      0      1      1      0      4   \n",
       "2      1      2      2      2      2      2      3      2      3      3   \n",
       "3      1      1      2      1      1      1      1      3      2      3   \n",
       "4      0      0      0      2      1      2      1      1      1      1   \n",
       "\n",
       "   Atr33  Atr34  Atr35  Atr36  Atr37  Atr38  Atr39  Atr40  Atr41  Atr42  \\\n",
       "0      1      2      0      1      2      1      3      3      2      1   \n",
       "1      2      3      0      2      3      4      2      4      2      2   \n",
       "2      1      1      1      1      2      1      3      3      3      3   \n",
       "3      2      2      1      1      3      3      4      4      2      2   \n",
       "4      1      1      0      0      0      0      2      1      0      2   \n",
       "\n",
       "   Atr43  Atr44  Atr45  Atr46  Atr47  Atr48  Atr49  Atr50  Atr51  Atr52  \\\n",
       "0      1      2      3      2      1      3      3      3      2      3   \n",
       "1      3      4      2      2      2      3      4      4      4      4   \n",
       "2      2      3      2      3      2      3      1      1      1      2   \n",
       "3      3      2      3      2      2      3      3      3      3      2   \n",
       "4      3      0      2      2      1      2      3      2      2      2   \n",
       "\n",
       "   Atr53  Atr54  Class  \n",
       "0      2      1      1  \n",
       "1      2      2      1  \n",
       "2      2      2      1  \n",
       "3      2      2      1  \n",
       "4      1      0      1  "
      ]
     },
     "execution_count": 4,
     "metadata": {},
     "output_type": "execute_result"
    }
   ],
   "source": [
    "df.head()"
   ]
  },
  {
   "cell_type": "markdown",
   "id": "5704436f",
   "metadata": {},
   "source": [
    "# Splitting Test and Train Data"
   ]
  },
  {
   "cell_type": "code",
   "execution_count": 5,
   "id": "65725828",
   "metadata": {},
   "outputs": [],
   "source": [
    "x = df.iloc[:,0:53]\n",
    "y = df.iloc[:,-1]\n",
    "\n",
    "X_train, X_test, y_train, y_test = train_test_split(x,y, test_size=0.33, random_state=42)"
   ]
  },
  {
   "cell_type": "markdown",
   "id": "e2ee782e",
   "metadata": {},
   "source": [
    "# Feature Selection using KBest Algorithm"
   ]
  },
  {
   "cell_type": "code",
   "execution_count": 6,
   "id": "77eebc1c",
   "metadata": {},
   "outputs": [
    {
     "data": {
      "text/html": [
       "<div>\n",
       "<style scoped>\n",
       "    .dataframe tbody tr th:only-of-type {\n",
       "        vertical-align: middle;\n",
       "    }\n",
       "\n",
       "    .dataframe tbody tr th {\n",
       "        vertical-align: top;\n",
       "    }\n",
       "\n",
       "    .dataframe thead th {\n",
       "        text-align: right;\n",
       "    }\n",
       "</style>\n",
       "<table border=\"1\" class=\"dataframe\">\n",
       "  <thead>\n",
       "    <tr style=\"text-align: right;\">\n",
       "      <th></th>\n",
       "      <th>names</th>\n",
       "      <th>scores</th>\n",
       "    </tr>\n",
       "  </thead>\n",
       "  <tbody>\n",
       "    <tr>\n",
       "      <th>35</th>\n",
       "      <td>Atr36</td>\n",
       "      <td>183.797065</td>\n",
       "    </tr>\n",
       "    <tr>\n",
       "      <th>34</th>\n",
       "      <td>Atr35</td>\n",
       "      <td>181.106124</td>\n",
       "    </tr>\n",
       "    <tr>\n",
       "      <th>39</th>\n",
       "      <td>Atr40</td>\n",
       "      <td>174.375947</td>\n",
       "    </tr>\n",
       "    <tr>\n",
       "      <th>37</th>\n",
       "      <td>Atr38</td>\n",
       "      <td>160.588721</td>\n",
       "    </tr>\n",
       "    <tr>\n",
       "      <th>8</th>\n",
       "      <td>Atr9</td>\n",
       "      <td>160.425659</td>\n",
       "    </tr>\n",
       "    <tr>\n",
       "      <th>18</th>\n",
       "      <td>Atr19</td>\n",
       "      <td>155.229166</td>\n",
       "    </tr>\n",
       "    <tr>\n",
       "      <th>16</th>\n",
       "      <td>Atr17</td>\n",
       "      <td>152.548781</td>\n",
       "    </tr>\n",
       "    <tr>\n",
       "      <th>10</th>\n",
       "      <td>Atr11</td>\n",
       "      <td>151.993322</td>\n",
       "    </tr>\n",
       "    <tr>\n",
       "      <th>4</th>\n",
       "      <td>Atr5</td>\n",
       "      <td>150.218797</td>\n",
       "    </tr>\n",
       "    <tr>\n",
       "      <th>19</th>\n",
       "      <td>Atr20</td>\n",
       "      <td>144.605114</td>\n",
       "    </tr>\n",
       "  </tbody>\n",
       "</table>\n",
       "</div>"
      ],
      "text/plain": [
       "    names      scores\n",
       "35  Atr36  183.797065\n",
       "34  Atr35  181.106124\n",
       "39  Atr40  174.375947\n",
       "37  Atr38  160.588721\n",
       "8    Atr9  160.425659\n",
       "18  Atr19  155.229166\n",
       "16  Atr17  152.548781\n",
       "10  Atr11  151.993322\n",
       "4    Atr5  150.218797\n",
       "19  Atr20  144.605114"
      ]
     },
     "execution_count": 6,
     "metadata": {},
     "output_type": "execute_result"
    }
   ],
   "source": [
    "fs = SelectKBest(score_func=chi2, k= 10)\n",
    "\n",
    "fs.fit(X_train, y_train)\n",
    "\n",
    "X_train_fs = fs.transform(X_train)\n",
    "X_test_fs = fs.transform(X_test)\n",
    "\n",
    "\n",
    "\n",
    "scores = pd.DataFrame(fs.scores_)\n",
    "names = pd.DataFrame(X_train.columns)\n",
    "\n",
    "\n",
    "\n",
    "features = pd.concat([names,scores],axis=1)\n",
    "features.columns = [\"names\", \"scores\"]\n",
    "\n",
    "\n",
    "    \n",
    "features = features.sort_values(by= ['scores'],ascending=False)\n",
    "\n",
    "features = features.head(10)\n",
    "\n",
    "questions = []\n",
    "\n",
    "for _ in range(len(features)):\n",
    "    mask  = features.names.iloc[_]\n",
    "    questions.append(ques[0].loc[ques[1] == mask])\n",
    "\n",
    "    \n",
    "questions = pd.Series(questions)    \n",
    "questions = pd.DataFrame(questions)\n",
    "\n",
    "\n",
    "features\n"
   ]
  },
  {
   "cell_type": "markdown",
   "id": "6f2e816a",
   "metadata": {},
   "source": [
    "# Creating DataFrame of Selected Features and Label\n"
   ]
  },
  {
   "cell_type": "code",
   "execution_count": 7,
   "id": "b9e54fc7",
   "metadata": {},
   "outputs": [
    {
     "data": {
      "text/html": [
       "<div>\n",
       "<style scoped>\n",
       "    .dataframe tbody tr th:only-of-type {\n",
       "        vertical-align: middle;\n",
       "    }\n",
       "\n",
       "    .dataframe tbody tr th {\n",
       "        vertical-align: top;\n",
       "    }\n",
       "\n",
       "    .dataframe thead th {\n",
       "        text-align: right;\n",
       "    }\n",
       "</style>\n",
       "<table border=\"1\" class=\"dataframe\">\n",
       "  <thead>\n",
       "    <tr style=\"text-align: right;\">\n",
       "      <th></th>\n",
       "      <th>Atr36</th>\n",
       "      <th>Class</th>\n",
       "      <th>Atr35</th>\n",
       "      <th>Atr40</th>\n",
       "      <th>Atr38</th>\n",
       "      <th>Atr9</th>\n",
       "      <th>Atr19</th>\n",
       "      <th>Atr17</th>\n",
       "      <th>Atr11</th>\n",
       "      <th>Atr5</th>\n",
       "      <th>Atr20</th>\n",
       "    </tr>\n",
       "  </thead>\n",
       "  <tbody>\n",
       "    <tr>\n",
       "      <th>0</th>\n",
       "      <td>1</td>\n",
       "      <td>1</td>\n",
       "      <td>0</td>\n",
       "      <td>3</td>\n",
       "      <td>1</td>\n",
       "      <td>0</td>\n",
       "      <td>0</td>\n",
       "      <td>0</td>\n",
       "      <td>1</td>\n",
       "      <td>0</td>\n",
       "      <td>1</td>\n",
       "    </tr>\n",
       "    <tr>\n",
       "      <th>1</th>\n",
       "      <td>2</td>\n",
       "      <td>1</td>\n",
       "      <td>0</td>\n",
       "      <td>4</td>\n",
       "      <td>4</td>\n",
       "      <td>4</td>\n",
       "      <td>3</td>\n",
       "      <td>4</td>\n",
       "      <td>4</td>\n",
       "      <td>4</td>\n",
       "      <td>2</td>\n",
       "    </tr>\n",
       "    <tr>\n",
       "      <th>2</th>\n",
       "      <td>1</td>\n",
       "      <td>1</td>\n",
       "      <td>1</td>\n",
       "      <td>3</td>\n",
       "      <td>1</td>\n",
       "      <td>1</td>\n",
       "      <td>3</td>\n",
       "      <td>3</td>\n",
       "      <td>3</td>\n",
       "      <td>1</td>\n",
       "      <td>2</td>\n",
       "    </tr>\n",
       "    <tr>\n",
       "      <th>3</th>\n",
       "      <td>1</td>\n",
       "      <td>1</td>\n",
       "      <td>1</td>\n",
       "      <td>4</td>\n",
       "      <td>3</td>\n",
       "      <td>3</td>\n",
       "      <td>3</td>\n",
       "      <td>3</td>\n",
       "      <td>4</td>\n",
       "      <td>3</td>\n",
       "      <td>4</td>\n",
       "    </tr>\n",
       "    <tr>\n",
       "      <th>4</th>\n",
       "      <td>0</td>\n",
       "      <td>1</td>\n",
       "      <td>0</td>\n",
       "      <td>1</td>\n",
       "      <td>0</td>\n",
       "      <td>0</td>\n",
       "      <td>2</td>\n",
       "      <td>1</td>\n",
       "      <td>0</td>\n",
       "      <td>1</td>\n",
       "      <td>1</td>\n",
       "    </tr>\n",
       "    <tr>\n",
       "      <th>...</th>\n",
       "      <td>...</td>\n",
       "      <td>...</td>\n",
       "      <td>...</td>\n",
       "      <td>...</td>\n",
       "      <td>...</td>\n",
       "      <td>...</td>\n",
       "      <td>...</td>\n",
       "      <td>...</td>\n",
       "      <td>...</td>\n",
       "      <td>...</td>\n",
       "      <td>...</td>\n",
       "    </tr>\n",
       "    <tr>\n",
       "      <th>165</th>\n",
       "      <td>0</td>\n",
       "      <td>0</td>\n",
       "      <td>0</td>\n",
       "      <td>0</td>\n",
       "      <td>0</td>\n",
       "      <td>0</td>\n",
       "      <td>0</td>\n",
       "      <td>0</td>\n",
       "      <td>0</td>\n",
       "      <td>0</td>\n",
       "      <td>0</td>\n",
       "    </tr>\n",
       "    <tr>\n",
       "      <th>166</th>\n",
       "      <td>1</td>\n",
       "      <td>0</td>\n",
       "      <td>1</td>\n",
       "      <td>1</td>\n",
       "      <td>1</td>\n",
       "      <td>0</td>\n",
       "      <td>0</td>\n",
       "      <td>0</td>\n",
       "      <td>0</td>\n",
       "      <td>0</td>\n",
       "      <td>0</td>\n",
       "    </tr>\n",
       "    <tr>\n",
       "      <th>167</th>\n",
       "      <td>0</td>\n",
       "      <td>0</td>\n",
       "      <td>0</td>\n",
       "      <td>2</td>\n",
       "      <td>1</td>\n",
       "      <td>0</td>\n",
       "      <td>0</td>\n",
       "      <td>0</td>\n",
       "      <td>0</td>\n",
       "      <td>0</td>\n",
       "      <td>1</td>\n",
       "    </tr>\n",
       "    <tr>\n",
       "      <th>168</th>\n",
       "      <td>0</td>\n",
       "      <td>0</td>\n",
       "      <td>0</td>\n",
       "      <td>1</td>\n",
       "      <td>0</td>\n",
       "      <td>0</td>\n",
       "      <td>0</td>\n",
       "      <td>0</td>\n",
       "      <td>0</td>\n",
       "      <td>0</td>\n",
       "      <td>0</td>\n",
       "    </tr>\n",
       "    <tr>\n",
       "      <th>169</th>\n",
       "      <td>0</td>\n",
       "      <td>0</td>\n",
       "      <td>0</td>\n",
       "      <td>0</td>\n",
       "      <td>0</td>\n",
       "      <td>0</td>\n",
       "      <td>0</td>\n",
       "      <td>0</td>\n",
       "      <td>0</td>\n",
       "      <td>0</td>\n",
       "      <td>1</td>\n",
       "    </tr>\n",
       "  </tbody>\n",
       "</table>\n",
       "<p>170 rows × 11 columns</p>\n",
       "</div>"
      ],
      "text/plain": [
       "     Atr36  Class  Atr35  Atr40  Atr38  Atr9  Atr19  Atr17  Atr11  Atr5  Atr20\n",
       "0        1      1      0      3      1     0      0      0      1     0      1\n",
       "1        2      1      0      4      4     4      3      4      4     4      2\n",
       "2        1      1      1      3      1     1      3      3      3     1      2\n",
       "3        1      1      1      4      3     3      3      3      4     3      4\n",
       "4        0      1      0      1      0     0      2      1      0     1      1\n",
       "..     ...    ...    ...    ...    ...   ...    ...    ...    ...   ...    ...\n",
       "165      0      0      0      0      0     0      0      0      0     0      0\n",
       "166      1      0      1      1      1     0      0      0      0     0      0\n",
       "167      0      0      0      2      1     0      0      0      0     0      1\n",
       "168      0      0      0      1      0     0      0      0      0     0      0\n",
       "169      0      0      0      0      0     0      0      0      0     0      1\n",
       "\n",
       "[170 rows x 11 columns]"
      ]
     },
     "execution_count": 7,
     "metadata": {},
     "output_type": "execute_result"
    }
   ],
   "source": [
    "df1 = pd.DataFrame()\n",
    "\n",
    "index = len(features.index)\n",
    "\n",
    "for column in range(index):\n",
    "    \n",
    "    mask = features.iloc[column]\n",
    "    df1[mask[0]] = df[mask[0]]\n",
    "    df1[\"Class\"] = df[\"Class\"]\n",
    "    \n",
    "df1   "
   ]
  },
  {
   "cell_type": "markdown",
   "id": "582074a4",
   "metadata": {},
   "source": [
    "# Splitting the Final Dataframe"
   ]
  },
  {
   "cell_type": "code",
   "execution_count": 8,
   "id": "0d33fad4",
   "metadata": {},
   "outputs": [],
   "source": [
    "x = df1.drop(\"Class\", axis = 1)\n",
    "y = df1[\"Class\"]\n",
    "\n",
    "X_train, X_test, y_train, y_test = train_test_split(x,y, test_size=0.30, random_state=15)"
   ]
  },
  {
   "cell_type": "markdown",
   "id": "39ec8d07",
   "metadata": {},
   "source": [
    "# Naive Bayes"
   ]
  },
  {
   "cell_type": "code",
   "execution_count": 29,
   "id": "74c15c93",
   "metadata": {},
   "outputs": [
    {
     "name": "stdout",
     "output_type": "stream",
     "text": [
      "score on test: 0.6470588235294118\n",
      "score on train: 0.7058823529411765\n"
     ]
    }
   ],
   "source": [
    "mnb = MultinomialNB().fit(X_train, y_train) #MultiNomial Naive Bayes\n",
    "\n",
    "mnb_score_test = mnb.score(X_test, y_test)\n",
    "mnb_score_train = mnb.score(X_train, y_train)\n",
    "\n",
    "print(\"score on test: \" + str(mnb_score_test))\n",
    "print(\"score on train: \"+ str(mnb_score_train))"
   ]
  },
  {
   "cell_type": "markdown",
   "id": "a1947354",
   "metadata": {},
   "source": [
    "# Logistic Regression"
   ]
  },
  {
   "cell_type": "code",
   "execution_count": 10,
   "id": "c5b46e7e",
   "metadata": {},
   "outputs": [
    {
     "name": "stdout",
     "output_type": "stream",
     "text": [
      "score on test: 0.9803921568627451\n",
      "score on train: 0.9915966386554622\n"
     ]
    }
   ],
   "source": [
    "lr = LogisticRegression(max_iter=1000)\n",
    "lr.fit(X_train, y_train)\n",
    "\n",
    "\n",
    "lr_score_test = lr.score(X_test, y_test)\n",
    "lr_score_train = lr.score(X_train, y_train)\n",
    "\n",
    "print(\"score on test: \" + str(lr_score_test))\n",
    "print(\"score on train: \"+ str(lr_score_train))"
   ]
  },
  {
   "cell_type": "code",
   "execution_count": null,
   "id": "753d698e",
   "metadata": {},
   "outputs": [],
   "source": []
  },
  {
   "cell_type": "markdown",
   "id": "b69e7ae6",
   "metadata": {},
   "source": [
    "# K - Nearest Neighbour"
   ]
  },
  {
   "cell_type": "code",
   "execution_count": 11,
   "id": "f4026f73",
   "metadata": {},
   "outputs": [
    {
     "name": "stdout",
     "output_type": "stream",
     "text": [
      "train shape: (119, 10)\n",
      "score on test: 0.9607843137254902\n",
      "score on train: 0.9831932773109243\n"
     ]
    }
   ],
   "source": [
    "knn = KNeighborsClassifier(algorithm = 'brute', n_jobs=-1)\n",
    "\n",
    "knn.fit(X_train, y_train)\n",
    "\n",
    "print(\"train shape: \" + str(X_train.shape))\n",
    "\n",
    "knn_score_test = knn.score(X_test, y_test)\n",
    "knn_score_train = knn.score(X_train, y_train)\n",
    "\n",
    "\n",
    "print(\"score on test: \" + str(knn_score_test))\n",
    "print(\"score on train: \"+ str(knn_score_train))"
   ]
  },
  {
   "cell_type": "markdown",
   "id": "6a499e0b",
   "metadata": {},
   "source": [
    "# Support Vector Machine"
   ]
  },
  {
   "cell_type": "code",
   "execution_count": 12,
   "id": "ce669d77",
   "metadata": {},
   "outputs": [
    {
     "name": "stdout",
     "output_type": "stream",
     "text": [
      "score on test: 0.6274509803921569\n",
      "score on train: 0.7226890756302521\n"
     ]
    }
   ],
   "source": [
    "svm=LinearSVC(C=0.0001)\n",
    "svm.fit(X_train, y_train)\n",
    "\n",
    "svm_score_test = svm.score(X_test, y_test)\n",
    "svm_score_train = svm.score(X_train, y_train)\n",
    "\n",
    "print(\"score on test: \" + str(svm_score_test))\n",
    "print(\"score on train: \"+ str(svm_score_train))"
   ]
  },
  {
   "cell_type": "markdown",
   "id": "5621fb05",
   "metadata": {},
   "source": [
    "# Decision Tree Classifier"
   ]
  },
  {
   "cell_type": "code",
   "execution_count": 13,
   "id": "765a46f1",
   "metadata": {},
   "outputs": [
    {
     "name": "stdout",
     "output_type": "stream",
     "text": [
      "score on test: 0.9607843137254902\n",
      "score on train: 1.0\n"
     ]
    }
   ],
   "source": [
    "clf = DecisionTreeClassifier()\n",
    "clf.fit(X_train, y_train)\n",
    "\n",
    "clf_score_test = clf.score(X_test, y_test)\n",
    "clf_score_train = clf.score(X_train, y_train)\n",
    "\n",
    "print(\"score on test: \"  + str(clf_score_test))\n",
    "print(\"score on train: \" + str(clf_score_train))"
   ]
  },
  {
   "cell_type": "markdown",
   "id": "d403f475",
   "metadata": {},
   "source": [
    "# Bagging Classifier"
   ]
  },
  {
   "cell_type": "code",
   "execution_count": 14,
   "id": "4f59b756",
   "metadata": {},
   "outputs": [
    {
     "name": "stdout",
     "output_type": "stream",
     "text": [
      "score on test: 0.9607843137254902\n",
      "score on train: 0.9831932773109243\n"
     ]
    }
   ],
   "source": [
    "# maX_samples: maXimum size 0.5=50% of each sample taken from the full dataset\n",
    "# maX_features: maXimum of features 1=100% taken here all 10K \n",
    "# n_estimators: number of decision trees\n",
    "\n",
    "\n",
    "bg = BaggingClassifier(DecisionTreeClassifier(),max_samples=0.5,max_features=1.0,n_estimators=10)\n",
    "\n",
    "bg.fit(X_train, y_train)\n",
    "\n",
    "bg_score_test = bg.score(X_test, y_test)\n",
    "bg_score_train = bg.score(X_train, y_train)\n",
    "\n",
    "print(\"score on test: \" + str(bg_score_test))\n",
    "print(\"score on train: \"+ str(bg_score_train))"
   ]
  },
  {
   "cell_type": "markdown",
   "id": "d0f7e83d",
   "metadata": {},
   "source": [
    "# Random Forest Classifier"
   ]
  },
  {
   "cell_type": "code",
   "execution_count": 15,
   "id": "a5339e3e",
   "metadata": {},
   "outputs": [
    {
     "name": "stdout",
     "output_type": "stream",
     "text": [
      "score on test: 0.9607843137254902\n",
      "score on train: 0.9915966386554622\n"
     ]
    }
   ],
   "source": [
    "# n_estimators = number of decision trees\n",
    "\n",
    "rf = RandomForestClassifier(n_estimators=10, max_depth=2)\n",
    "rf.fit(X_train, y_train)\n",
    "\n",
    "rf_score_test = rf.score(X_test, y_test)\n",
    "rf_score_train = rf.score(X_train, y_train)\n",
    "\n",
    "\n",
    "print(\"score on test: \" + str(rf_score_test))\n",
    "print(\"score on train: \"+ str(rf_score_train))"
   ]
  },
  {
   "cell_type": "code",
   "execution_count": 16,
   "id": "bc29313a",
   "metadata": {},
   "outputs": [],
   "source": [
    "scores = [['Naive Bayes',mnb_score_test,mnb_score_train],\n",
    "          ['Logistic Regression',lr_score_test,lr_score_train],\n",
    "          ['KNN', knn_score_test,knn_score_train],\n",
    "          ['SVM', svm_score_test,svm_score_train],\n",
    "          ['Decision Tree Classifier', clf_score_test,clf_score_train],\n",
    "          ['Bagging Classifier',bg_score_test,bg_score_train],\n",
    "          ['Random Forest',rf_score_test,rf_score_train]]\n",
    "\n",
    "score_df = pd.DataFrame(scores, columns = ['Model Name', 'TestScore' , 'TrainScore']) "
   ]
  },
  {
   "cell_type": "code",
   "execution_count": 17,
   "id": "69ee4a24",
   "metadata": {},
   "outputs": [
    {
     "data": {
      "image/png": "[encoded data removed]",
      "text/plain": [
       "<Figure size 1152x576 with 1 Axes>"
      ]
     },
     "metadata": {
      "needs_background": "light"
     },
     "output_type": "display_data"
    }
   ],
   "source": [
    "xpos = np.arange(7)\n",
    "\n",
    "plt.figure(figsize =(16,8))\n",
    "\n",
    "plt.xticks(xpos, score_df['Model Name'] )\n",
    "plt.ylabel(\"Scores\")\n",
    "plt.title(\"Scores of Various Binary Classification Models\")\n",
    "testbar = plt.bar(xpos - 0.1, score_df['TrainScore'],width = 0.4, label = \"Train Score\")\n",
    "trainbar = plt.bar(xpos + 0.3, score_df['TestScore'], width = 0.4, label = \"Test Score\")\n",
    "\n",
    "plt.legend()\n",
    "\n",
    "#tAKE COUNT\n",
    "\n",
    "plt.tight_layout()\n",
    "plt.show()\n"
   ]
  },
  {
   "cell_type": "code",
   "execution_count": 18,
   "id": "068cfd0e",
   "metadata": {},
   "outputs": [
    {
     "data": {
      "text/html": [
       "<div>\n",
       "<style scoped>\n",
       "    .dataframe tbody tr th:only-of-type {\n",
       "        vertical-align: middle;\n",
       "    }\n",
       "\n",
       "    .dataframe tbody tr th {\n",
       "        vertical-align: top;\n",
       "    }\n",
       "\n",
       "    .dataframe thead th {\n",
       "        text-align: right;\n",
       "    }\n",
       "</style>\n",
       "<table border=\"1\" class=\"dataframe\">\n",
       "  <thead>\n",
       "    <tr style=\"text-align: right;\">\n",
       "      <th></th>\n",
       "      <th>Model Name</th>\n",
       "      <th>TestScore</th>\n",
       "      <th>TrainScore</th>\n",
       "    </tr>\n",
       "  </thead>\n",
       "  <tbody>\n",
       "    <tr>\n",
       "      <th>1</th>\n",
       "      <td>Logistic Regression</td>\n",
       "      <td>0.980392</td>\n",
       "      <td>0.991597</td>\n",
       "    </tr>\n",
       "    <tr>\n",
       "      <th>4</th>\n",
       "      <td>Decision Tree Classifier</td>\n",
       "      <td>0.960784</td>\n",
       "      <td>1.000000</td>\n",
       "    </tr>\n",
       "    <tr>\n",
       "      <th>6</th>\n",
       "      <td>Random Forest</td>\n",
       "      <td>0.960784</td>\n",
       "      <td>0.991597</td>\n",
       "    </tr>\n",
       "    <tr>\n",
       "      <th>2</th>\n",
       "      <td>KNN</td>\n",
       "      <td>0.960784</td>\n",
       "      <td>0.983193</td>\n",
       "    </tr>\n",
       "    <tr>\n",
       "      <th>5</th>\n",
       "      <td>Bagging Classifier</td>\n",
       "      <td>0.960784</td>\n",
       "      <td>0.983193</td>\n",
       "    </tr>\n",
       "    <tr>\n",
       "      <th>0</th>\n",
       "      <td>Naive Bayes</td>\n",
       "      <td>0.647059</td>\n",
       "      <td>0.705882</td>\n",
       "    </tr>\n",
       "    <tr>\n",
       "      <th>3</th>\n",
       "      <td>SVM</td>\n",
       "      <td>0.627451</td>\n",
       "      <td>0.722689</td>\n",
       "    </tr>\n",
       "  </tbody>\n",
       "</table>\n",
       "</div>"
      ],
      "text/plain": [
       "                 Model Name  TestScore  TrainScore\n",
       "1       Logistic Regression   0.980392    0.991597\n",
       "4  Decision Tree Classifier   0.960784    1.000000\n",
       "6             Random Forest   0.960784    0.991597\n",
       "2                       KNN   0.960784    0.983193\n",
       "5        Bagging Classifier   0.960784    0.983193\n",
       "0               Naive Bayes   0.647059    0.705882\n",
       "3                       SVM   0.627451    0.722689"
      ]
     },
     "execution_count": 18,
     "metadata": {},
     "output_type": "execute_result"
    }
   ],
   "source": [
    "score_df.sort_values(by=[\"TestScore\", \"TrainScore\"], ascending = False)"
   ]
  },
  {
   "cell_type": "markdown",
   "id": "37d942b3",
   "metadata": {},
   "source": [
    "# Creating Confusion Matrix"
   ]
  },
  {
   "cell_type": "code",
   "execution_count": 19,
   "id": "10996635",
   "metadata": {},
   "outputs": [
    {
     "name": "stdout",
     "output_type": "stream",
     "text": [
      "[[28  0]\n",
      " [ 2 21]]\n"
     ]
    },
    {
     "name": "stderr",
     "output_type": "stream",
     "text": [
      "C:\\Users\\harik\\anaconda3\\lib\\site-packages\\sklearn\\utils\\deprecation.py:87: FutureWarning: Function plot_confusion_matrix is deprecated; Function `plot_confusion_matrix` is deprecated in 1.0 and will be removed in 1.2. Use one of the class methods: ConfusionMatrixDisplay.from_predictions or ConfusionMatrixDisplay.from_estimator.\n",
      "  warnings.warn(msg, category=FutureWarning)\n"
     ]
    },
    {
     "data": {
      "image/png": "[encoded data removed]",
      "text/plain": [
       "<Figure size 432x288 with 2 Axes>"
      ]
     },
     "metadata": {
      "needs_background": "light"
     },
     "output_type": "display_data"
    }
   ],
   "source": [
    "y_pred = rf.predict(X_test)\n",
    "score = rf.score(X_test, y_pred)\n",
    "\n",
    "\n",
    "print(confusion_matrix(y_test, y_pred))\n",
    "\n",
    "\n",
    "plot_confusion_matrix(rf, X_test, y_test)\n",
    "plt.show()"
   ]
  },
  {
   "cell_type": "markdown",
   "id": "61dbea41",
   "metadata": {},
   "source": [
    "# Saving the Model"
   ]
  },
  {
   "cell_type": "code",
   "execution_count": 20,
   "id": "8aa708b0",
   "metadata": {},
   "outputs": [
    {
     "data": {
      "text/plain": [
       "['random_forest_divorce_predictor.pkl']"
      ]
     },
     "execution_count": 20,
     "metadata": {},
     "output_type": "execute_result"
    }
   ],
   "source": [
    "joblib_file = \"random_forest_divorce_predictor.pkl\"\n",
    "joblib.dump(rf, joblib_file)\n"
   ]
  },
  {
   "cell_type": "markdown",
   "id": "da8bef89",
   "metadata": {},
   "source": [
    "# The model is imported back again into the notebook just to check it."
   ]
  },
  {
   "cell_type": "code",
   "execution_count": 21,
   "id": "c41c1bd2",
   "metadata": {},
   "outputs": [],
   "source": [
    "# Load from file\n",
    "joblib_model = joblib.load(joblib_file)"
   ]
  },
  {
   "cell_type": "code",
   "execution_count": 22,
   "id": "eb86a8de",
   "metadata": {},
   "outputs": [
    {
     "name": "stdout",
     "output_type": "stream",
     "text": [
      "Test score: 96.08 %\n"
     ]
    }
   ],
   "source": [
    "score = joblib_model.score(X_test, y_test)\n",
    "print(\"Test score: {0:.2f} %\".format(100 * score))"
   ]
  },
  {
   "cell_type": "code",
   "execution_count": 23,
   "id": "4e0cea9b",
   "metadata": {},
   "outputs": [
    {
     "name": "stderr",
     "output_type": "stream",
     "text": [
      "C:\\Users\\harik\\anaconda3\\lib\\site-packages\\sklearn\\base.py:450: UserWarning: X does not have valid feature names, but RandomForestClassifier was fitted with feature names\n",
      "  warnings.warn(\n"
     ]
    }
   ],
   "source": [
    "a = rf.predict([[4,4,4,3,1,4,1,4,2,0]])"
   ]
  },
  {
   "cell_type": "code",
   "execution_count": 24,
   "id": "8b9644e0",
   "metadata": {},
   "outputs": [
    {
     "data": {
      "text/plain": [
       "1"
      ]
     },
     "execution_count": 24,
     "metadata": {},
     "output_type": "execute_result"
    }
   ],
   "source": [
    "a[0]"
   ]
  },
  {
   "cell_type": "code",
   "execution_count": 25,
   "id": "e085a971",
   "metadata": {},
   "outputs": [],
   "source": [
    "mnb_cv = cross_val_score(mnb,x,y).mean()\n",
    "lr_cv  = cross_val_score(lr,x,y).mean()\n",
    "knn_cv = cross_val_score(knn,x,y).mean()\n",
    "clf_cv = cross_val_score(clf,x,y).mean()\n",
    "svm_cv = cross_val_score(svm,x,y).mean()\n",
    "bg_cv  = cross_val_score(bg,x,y).mean()\n",
    "rf_cv  = cross_val_score(rf,x,y).mean()"
   ]
  },
  {
   "cell_type": "code",
   "execution_count": 26,
   "id": "009791e0",
   "metadata": {},
   "outputs": [],
   "source": [
    "cv = [['Naive Bayes',mnb_cv],\n",
    "          ['Logistic Regression',lr_cv],\n",
    "          ['KNN', knn_cv],\n",
    "          ['SVM', svm_cv],\n",
    "          ['Decision Tree Classifier', clf_cv],\n",
    "          ['Bagging Classifier',bg_cv],\n",
    "          ['Random Forest',rf_cv]]\n",
    "\n",
    "cv_df = pd.DataFrame(cv, columns = [\"Model Name\", \"Cv_scores\"])"
   ]
  },
  {
   "cell_type": "code",
   "execution_count": 27,
   "id": "ef3a876b",
   "metadata": {},
   "outputs": [
    {
     "data": {
      "image/png": "[encoded data removed]",
      "text/plain": [
       "<Figure size 1152x576 with 1 Axes>"
      ]
     },
     "metadata": {
      "needs_background": "light"
     },
     "output_type": "display_data"
    }
   ],
   "source": [
    "xpos = np.arange(7)\n",
    "\n",
    "plt.figure(figsize =(16,8))\n",
    "\n",
    "plt.xticks(xpos, cv_df['Model Name'] )\n",
    "plt.ylabel(\"Scores\")\n",
    "plt.title(\"CV Scores of Various Binary Classification Models\")\n",
    "testbar = plt.bar(xpos - 0.1, cv_df['Cv_scores'],width = 0.4, label = \"Cross Validation Score\")\n",
    "\n",
    "\n",
    "plt.legend()\n",
    "\n",
    "\n",
    "for count,rect in enumerate(testbar):\n",
    "    \n",
    "    height = rect.get_height()\n",
    "    plt.text(rect.get_x() + rect.get_width()/2.0,\n",
    "             height,\n",
    "             '%0.5f' % cv_df[\"Cv_scores\"][count],\n",
    "             ha='center',\n",
    "             va='bottom',\n",
    "             weight = \"bold\",\n",
    "             fontsize = 15)\n",
    "    \n",
    "    \n",
    "plt.tight_layout()\n",
    "plt.show()"
   ]
  },
  {
   "cell_type": "code",
   "execution_count": 28,
   "id": "7b11bbac",
   "metadata": {},
   "outputs": [
    {
     "data": {
      "text/html": [
       "<div>\n",
       "<style scoped>\n",
       "    .dataframe tbody tr th:only-of-type {\n",
       "        vertical-align: middle;\n",
       "    }\n",
       "\n",
       "    .dataframe tbody tr th {\n",
       "        vertical-align: top;\n",
       "    }\n",
       "\n",
       "    .dataframe thead th {\n",
       "        text-align: right;\n",
       "    }\n",
       "</style>\n",
       "<table border=\"1\" class=\"dataframe\">\n",
       "  <thead>\n",
       "    <tr style=\"text-align: right;\">\n",
       "      <th></th>\n",
       "      <th>Model Name</th>\n",
       "      <th>Cv_scores</th>\n",
       "    </tr>\n",
       "  </thead>\n",
       "  <tbody>\n",
       "    <tr>\n",
       "      <th>1</th>\n",
       "      <td>Logistic Regression</td>\n",
       "      <td>0.976471</td>\n",
       "    </tr>\n",
       "    <tr>\n",
       "      <th>2</th>\n",
       "      <td>KNN</td>\n",
       "      <td>0.976471</td>\n",
       "    </tr>\n",
       "    <tr>\n",
       "      <th>6</th>\n",
       "      <td>Random Forest</td>\n",
       "      <td>0.976471</td>\n",
       "    </tr>\n",
       "    <tr>\n",
       "      <th>5</th>\n",
       "      <td>Bagging Classifier</td>\n",
       "      <td>0.970588</td>\n",
       "    </tr>\n",
       "    <tr>\n",
       "      <th>4</th>\n",
       "      <td>Decision Tree Classifier</td>\n",
       "      <td>0.947059</td>\n",
       "    </tr>\n",
       "    <tr>\n",
       "      <th>0</th>\n",
       "      <td>Naive Bayes</td>\n",
       "      <td>0.852941</td>\n",
       "    </tr>\n",
       "    <tr>\n",
       "      <th>3</th>\n",
       "      <td>SVM</td>\n",
       "      <td>0.694118</td>\n",
       "    </tr>\n",
       "  </tbody>\n",
       "</table>\n",
       "</div>"
      ],
      "text/plain": [
       "                 Model Name  Cv_scores\n",
       "1       Logistic Regression   0.976471\n",
       "2                       KNN   0.976471\n",
       "6             Random Forest   0.976471\n",
       "5        Bagging Classifier   0.970588\n",
       "4  Decision Tree Classifier   0.947059\n",
       "0               Naive Bayes   0.852941\n",
       "3                       SVM   0.694118"
      ]
     },
     "execution_count": 28,
     "metadata": {},
     "output_type": "execute_result"
    }
   ],
   "source": [
    "cv_df.sort_values(by=[\"Cv_scores\"], ascending = False)"
   ]
  }
 ],
 "metadata": {
  "kernelspec": {
   "display_name": "Python 3 (ipykernel)",
   "language": "python",
   "name": "python3"
  },
  "language_info": {
   "codemirror_mode": {
    "name": "ipython",
    "version": 3
   },
   "file_extension": ".py",
   "mimetype": "text/x-python",
   "name": "python",
   "nbconvert_exporter": "python",
   "pygments_lexer": "ipython3",
   "version": "3.9.12"
  }
 },
 "nbformat": 4,
 "nbformat_minor": 5
}
